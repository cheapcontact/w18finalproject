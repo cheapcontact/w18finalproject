{
 "cells": [
  {
   "cell_type": "markdown",
   "metadata": {},
   "source": [
    "# Scratch File for Brian. No one else should edit or check in."
   ]
  },
  {
   "cell_type": "code",
   "execution_count": 59,
   "metadata": {
    "collapsed": false
   },
   "outputs": [
    {
     "name": "stdout",
     "output_type": "stream",
     "text": [
      "The autoreload extension is already loaded. To reload it, use:\n",
      "  %reload_ext autoreload\n"
     ]
    }
   ],
   "source": [
    "%load_ext autoreload\n",
    "%autoreload 2\n",
    "%matplotlib inline\n",
    "import shared_utils as su\n",
    "import numpy as np\n",
    "import pandas as pd\n",
    "import datetime\n"
   ]
  },
  {
   "cell_type": "code",
   "execution_count": 69,
   "metadata": {
    "collapsed": false
   },
   "outputs": [
    {
     "data": {
      "text/html": [
       "<div>\n",
       "<table border=\"1\" class=\"dataframe\">\n",
       "  <thead>\n",
       "    <tr style=\"text-align: right;\">\n",
       "      <th></th>\n",
       "      <th>Trip ID</th>\n",
       "      <th>Duration</th>\n",
       "      <th>Start Date</th>\n",
       "      <th>Start Station</th>\n",
       "      <th>Start Terminal</th>\n",
       "      <th>End Date</th>\n",
       "      <th>End Station</th>\n",
       "      <th>End Terminal</th>\n",
       "      <th>Bike #</th>\n",
       "      <th>Subscriber Type</th>\n",
       "      <th>Zip Code</th>\n",
       "    </tr>\n",
       "  </thead>\n",
       "  <tbody>\n",
       "    <tr>\n",
       "      <th>0</th>\n",
       "      <td>913460</td>\n",
       "      <td>765</td>\n",
       "      <td>8/31/2015 23:26</td>\n",
       "      <td>Harry Bridges Plaza (Ferry Building)</td>\n",
       "      <td>50</td>\n",
       "      <td>8/31/2015 23:39</td>\n",
       "      <td>San Francisco Caltrain (Townsend at 4th)</td>\n",
       "      <td>70</td>\n",
       "      <td>288</td>\n",
       "      <td>Subscriber</td>\n",
       "      <td>2139</td>\n",
       "    </tr>\n",
       "    <tr>\n",
       "      <th>1</th>\n",
       "      <td>913459</td>\n",
       "      <td>1036</td>\n",
       "      <td>8/31/2015 23:11</td>\n",
       "      <td>San Antonio Shopping Center</td>\n",
       "      <td>31</td>\n",
       "      <td>8/31/2015 23:28</td>\n",
       "      <td>Mountain View City Hall</td>\n",
       "      <td>27</td>\n",
       "      <td>35</td>\n",
       "      <td>Subscriber</td>\n",
       "      <td>95032</td>\n",
       "    </tr>\n",
       "    <tr>\n",
       "      <th>2</th>\n",
       "      <td>913455</td>\n",
       "      <td>307</td>\n",
       "      <td>8/31/2015 23:13</td>\n",
       "      <td>Post at Kearny</td>\n",
       "      <td>47</td>\n",
       "      <td>8/31/2015 23:18</td>\n",
       "      <td>2nd at South Park</td>\n",
       "      <td>64</td>\n",
       "      <td>468</td>\n",
       "      <td>Subscriber</td>\n",
       "      <td>94107</td>\n",
       "    </tr>\n",
       "    <tr>\n",
       "      <th>3</th>\n",
       "      <td>913454</td>\n",
       "      <td>409</td>\n",
       "      <td>8/31/2015 23:10</td>\n",
       "      <td>San Jose City Hall</td>\n",
       "      <td>10</td>\n",
       "      <td>8/31/2015 23:17</td>\n",
       "      <td>San Salvador at 1st</td>\n",
       "      <td>8</td>\n",
       "      <td>68</td>\n",
       "      <td>Subscriber</td>\n",
       "      <td>95113</td>\n",
       "    </tr>\n",
       "    <tr>\n",
       "      <th>4</th>\n",
       "      <td>913453</td>\n",
       "      <td>789</td>\n",
       "      <td>8/31/2015 23:09</td>\n",
       "      <td>Embarcadero at Folsom</td>\n",
       "      <td>51</td>\n",
       "      <td>8/31/2015 23:22</td>\n",
       "      <td>Embarcadero at Sansome</td>\n",
       "      <td>60</td>\n",
       "      <td>487</td>\n",
       "      <td>Customer</td>\n",
       "      <td>9069</td>\n",
       "    </tr>\n",
       "  </tbody>\n",
       "</table>\n",
       "</div>"
      ],
      "text/plain": [
       "   Trip ID  Duration       Start Date                         Start Station  \\\n",
       "0   913460       765  8/31/2015 23:26  Harry Bridges Plaza (Ferry Building)   \n",
       "1   913459      1036  8/31/2015 23:11           San Antonio Shopping Center   \n",
       "2   913455       307  8/31/2015 23:13                        Post at Kearny   \n",
       "3   913454       409  8/31/2015 23:10                    San Jose City Hall   \n",
       "4   913453       789  8/31/2015 23:09                 Embarcadero at Folsom   \n",
       "\n",
       "   Start Terminal         End Date                               End Station  \\\n",
       "0              50  8/31/2015 23:39  San Francisco Caltrain (Townsend at 4th)   \n",
       "1              31  8/31/2015 23:28                   Mountain View City Hall   \n",
       "2              47  8/31/2015 23:18                         2nd at South Park   \n",
       "3              10  8/31/2015 23:17                       San Salvador at 1st   \n",
       "4              51  8/31/2015 23:22                    Embarcadero at Sansome   \n",
       "\n",
       "   End Terminal  Bike # Subscriber Type Zip Code  \n",
       "0            70     288      Subscriber     2139  \n",
       "1            27      35      Subscriber    95032  \n",
       "2            64     468      Subscriber    94107  \n",
       "3             8      68      Subscriber    95113  \n",
       "4            60     487        Customer     9069  "
      ]
     },
     "execution_count": 69,
     "metadata": {},
     "output_type": "execute_result"
    }
   ],
   "source": [
    "df = su.read_trip_data()\n",
    "df.head()"
   ]
  },
  {
   "cell_type": "code",
   "execution_count": 18,
   "metadata": {
    "collapsed": false
   },
   "outputs": [],
   "source": [
    "subscribers = df[df['Subscriber Type'] == 'Subscriber']"
   ]
  },
  {
   "cell_type": "code",
   "execution_count": 19,
   "metadata": {
    "collapsed": false
   },
   "outputs": [
    {
     "data": {
      "text/html": [
       "<div>\n",
       "<table border=\"1\" class=\"dataframe\">\n",
       "  <thead>\n",
       "    <tr style=\"text-align: right;\">\n",
       "      <th></th>\n",
       "      <th>Trip ID</th>\n",
       "      <th>Duration</th>\n",
       "      <th>Start Terminal</th>\n",
       "      <th>End Terminal</th>\n",
       "      <th>Bike #</th>\n",
       "    </tr>\n",
       "  </thead>\n",
       "  <tbody>\n",
       "    <tr>\n",
       "      <th>count</th>\n",
       "      <td>310217.000000</td>\n",
       "      <td>310217.000000</td>\n",
       "      <td>310217.000000</td>\n",
       "      <td>310217.000000</td>\n",
       "      <td>310217.000000</td>\n",
       "    </tr>\n",
       "    <tr>\n",
       "      <th>mean</th>\n",
       "      <td>675925.017494</td>\n",
       "      <td>597.299587</td>\n",
       "      <td>58.801445</td>\n",
       "      <td>58.720486</td>\n",
       "      <td>423.478717</td>\n",
       "    </tr>\n",
       "    <tr>\n",
       "      <th>std</th>\n",
       "      <td>138124.795325</td>\n",
       "      <td>3976.589433</td>\n",
       "      <td>16.637260</td>\n",
       "      <td>16.814934</td>\n",
       "      <td>159.213750</td>\n",
       "    </tr>\n",
       "    <tr>\n",
       "      <th>min</th>\n",
       "      <td>432951.000000</td>\n",
       "      <td>60.000000</td>\n",
       "      <td>2.000000</td>\n",
       "      <td>2.000000</td>\n",
       "      <td>9.000000</td>\n",
       "    </tr>\n",
       "    <tr>\n",
       "      <th>25%</th>\n",
       "      <td>557055.000000</td>\n",
       "      <td>325.000000</td>\n",
       "      <td>51.000000</td>\n",
       "      <td>50.000000</td>\n",
       "      <td>328.000000</td>\n",
       "    </tr>\n",
       "    <tr>\n",
       "      <th>50%</th>\n",
       "      <td>677257.000000</td>\n",
       "      <td>479.000000</td>\n",
       "      <td>63.000000</td>\n",
       "      <td>63.000000</td>\n",
       "      <td>437.000000</td>\n",
       "    </tr>\n",
       "    <tr>\n",
       "      <th>75%</th>\n",
       "      <td>795364.000000</td>\n",
       "      <td>669.000000</td>\n",
       "      <td>70.000000</td>\n",
       "      <td>70.000000</td>\n",
       "      <td>546.000000</td>\n",
       "    </tr>\n",
       "    <tr>\n",
       "      <th>max</th>\n",
       "      <td>913460.000000</td>\n",
       "      <td>1852590.000000</td>\n",
       "      <td>84.000000</td>\n",
       "      <td>84.000000</td>\n",
       "      <td>878.000000</td>\n",
       "    </tr>\n",
       "  </tbody>\n",
       "</table>\n",
       "</div>"
      ],
      "text/plain": [
       "             Trip ID        Duration  Start Terminal   End Terminal  \\\n",
       "count  310217.000000   310217.000000   310217.000000  310217.000000   \n",
       "mean   675925.017494      597.299587       58.801445      58.720486   \n",
       "std    138124.795325     3976.589433       16.637260      16.814934   \n",
       "min    432951.000000       60.000000        2.000000       2.000000   \n",
       "25%    557055.000000      325.000000       51.000000      50.000000   \n",
       "50%    677257.000000      479.000000       63.000000      63.000000   \n",
       "75%    795364.000000      669.000000       70.000000      70.000000   \n",
       "max    913460.000000  1852590.000000       84.000000      84.000000   \n",
       "\n",
       "              Bike #  \n",
       "count  310217.000000  \n",
       "mean      423.478717  \n",
       "std       159.213750  \n",
       "min         9.000000  \n",
       "25%       328.000000  \n",
       "50%       437.000000  \n",
       "75%       546.000000  \n",
       "max       878.000000  "
      ]
     },
     "execution_count": 19,
     "metadata": {},
     "output_type": "execute_result"
    }
   ],
   "source": [
    "subscribers.describe()"
   ]
  },
  {
   "cell_type": "code",
   "execution_count": 20,
   "metadata": {
    "collapsed": false
   },
   "outputs": [
    {
     "data": {
      "text/plain": [
       "San Francisco Caltrain (Townsend at 4th)         24884\n",
       "San Francisco Caltrain 2 (330 Townsend)          20923\n",
       "Temporary Transbay Terminal (Howard at Beale)    14067\n",
       "Harry Bridges Plaza (Ferry Building)             13211\n",
       "Townsend at 7th                                  13108\n",
       "2nd at Townsend                                  12488\n",
       "Steuart at Market                                12254\n",
       "Market at 10th                                   10661\n",
       "Market at Sansome                                10267\n",
       "Embarcadero at Sansome                            9653\n",
       "2nd at South Park                                 8903\n",
       "Market at 4th                                     7964\n",
       "Powell Street BART                                7898\n",
       "Beale at Market                                   7676\n",
       "2nd at Folsom                                     7515\n",
       "Grant Avenue at Columbus Avenue                   7115\n",
       "Broadway St at Battery St                         7112\n",
       "5th at Howard                                     6910\n",
       "Embarcadero at Folsom                             6804\n",
       "Civic Center BART (7th at Market)                 6796\n",
       "Embarcadero at Bryant                             6506\n",
       "Howard at 2nd                                     6176\n",
       "Commercial at Montgomery                          5493\n",
       "Mechanics Plaza (Market at Battery)               5366\n",
       "South Van Ness at Market                          5207\n",
       "Spear at Folsom                                   5027\n",
       "Powell at Post (Union Square)                     4772\n",
       "San Jose Diridon Caltrain Station                 4738\n",
       "Davis at Jackson                                  4694\n",
       "Yerba Buena Center of the Arts (3rd @ Howard)     4631\n",
       "                                                 ...  \n",
       "Castro Street and El Camino Real                  1081\n",
       "Ryland Park                                        980\n",
       "San Antonio Shopping Center                        969\n",
       "MLK Library                                        963\n",
       "San Antonio Caltrain Station                       868\n",
       "Evelyn Park and Ride                               848\n",
       "Palo Alto Caltrain Station                         810\n",
       "Redwood City Caltrain Station                      776\n",
       "St James Park                                      736\n",
       "San Jose City Hall                                 726\n",
       "Japantown                                          686\n",
       "Paseo de San Antonio                               655\n",
       "Arena Green / SAP Center                           491\n",
       "Santa Clara County Civic Center                    486\n",
       "Adobe on Almaden                                   460\n",
       "Cowper at University                               451\n",
       "San Jose Civic Center                              397\n",
       "San Salvador at 1st                                393\n",
       "SJSU - San Salvador at 9th                         388\n",
       "Rengstorff Avenue / California Street              378\n",
       "SJSU 4th at San Carlos                             361\n",
       "Stanford in Redwood City                           359\n",
       "Park at Olive                                      236\n",
       "California Ave Caltrain Station                    190\n",
       "Mezes Park                                         187\n",
       "University and Emerson                             168\n",
       "Redwood City Medical Center                        134\n",
       "San Mateo County Center                            101\n",
       "Redwood City Public Library                         78\n",
       "Franklin at Maple                                   53\n",
       "Name: Start Station, dtype: int64"
      ]
     },
     "execution_count": 20,
     "metadata": {},
     "output_type": "execute_result"
    }
   ],
   "source": [
    "subscribers['Start Station'].value_counts()"
   ]
  },
  {
   "cell_type": "code",
   "execution_count": 21,
   "metadata": {
    "collapsed": false
   },
   "outputs": [
    {
     "data": {
      "text/plain": [
       "San Francisco Caltrain (Townsend at 4th)         33201\n",
       "San Francisco Caltrain 2 (330 Townsend)          21674\n",
       "Townsend at 7th                                  14719\n",
       "Harry Bridges Plaza (Ferry Building)             13996\n",
       "2nd at Townsend                                  13860\n",
       "Market at Sansome                                12910\n",
       "Temporary Transbay Terminal (Howard at Beale)    12666\n",
       "Steuart at Market                                11998\n",
       "Embarcadero at Sansome                            9470\n",
       "Market at 10th                                    8963\n",
       "Powell Street BART                                8471\n",
       "Market at 4th                                     7788\n",
       "2nd at South Park                                 7725\n",
       "5th at Howard                                     7371\n",
       "Civic Center BART (7th at Market)                 6914\n",
       "Howard at 2nd                                     6862\n",
       "Embarcadero at Folsom                             6694\n",
       "Broadway St at Battery St                         6658\n",
       "Embarcadero at Bryant                             5900\n",
       "Beale at Market                                   5793\n",
       "Mechanics Plaza (Market at Battery)               5592\n",
       "Yerba Buena Center of the Arts (3rd @ Howard)     5496\n",
       "Commercial at Montgomery                          5386\n",
       "Davis at Jackson                                  4831\n",
       "San Jose Diridon Caltrain Station                 4829\n",
       "Spear at Folsom                                   4587\n",
       "Embarcadero at Vallejo                            4522\n",
       "Clay at Battery                                   4476\n",
       "2nd at Folsom                                     4340\n",
       "Post at Kearny                                    4146\n",
       "                                                 ...  \n",
       "Castro Street and El Camino Real                   996\n",
       "San Antonio Shopping Center                        961\n",
       "Paseo de San Antonio                               903\n",
       "San Antonio Caltrain Station                       899\n",
       "MLK Library                                        802\n",
       "Japantown                                          796\n",
       "Ryland Park                                        768\n",
       "Redwood City Caltrain Station                      697\n",
       "Palo Alto Caltrain Station                         637\n",
       "St James Park                                      629\n",
       "Evelyn Park and Ride                               604\n",
       "San Jose City Hall                                 550\n",
       "SJSU 4th at San Carlos                             546\n",
       "San Jose Civic Center                              518\n",
       "Arena Green / SAP Center                           465\n",
       "Cowper at University                               437\n",
       "Santa Clara County Civic Center                    413\n",
       "San Salvador at 1st                                411\n",
       "Adobe on Almaden                                   409\n",
       "Stanford in Redwood City                           345\n",
       "SJSU - San Salvador at 9th                         317\n",
       "Rengstorff Avenue / California Street              314\n",
       "California Ave Caltrain Station                    298\n",
       "Park at Olive                                      296\n",
       "University and Emerson                             210\n",
       "Redwood City Medical Center                        208\n",
       "San Mateo County Center                            165\n",
       "Mezes Park                                         121\n",
       "Franklin at Maple                                   78\n",
       "Redwood City Public Library                         57\n",
       "Name: End Station, dtype: int64"
      ]
     },
     "execution_count": 21,
     "metadata": {},
     "output_type": "execute_result"
    }
   ],
   "source": [
    "subscribers['End Station'].value_counts()"
   ]
  },
  {
   "cell_type": "code",
   "execution_count": 22,
   "metadata": {
    "collapsed": false
   },
   "outputs": [
    {
     "data": {
      "text/plain": [
       "94107    45819\n",
       "94105    19915\n",
       "94133    15868\n",
       "94103    14446\n",
       "94111    10697\n",
       "94102     9696\n",
       "94109     6029\n",
       "95112     4488\n",
       "94403     4124\n",
       "94611     3998\n",
       "94501     3940\n",
       "94158     3918\n",
       "94117     3865\n",
       "94602     3783\n",
       "94110     3471\n",
       "94114     3425\n",
       "95110     3421\n",
       "94010     3323\n",
       "94610     3229\n",
       "94025     3109\n",
       "94040     3052\n",
       "94108     3003\n",
       "94041     2902\n",
       "94070     2845\n",
       "94002     2772\n",
       "94402     2746\n",
       "94608     2704\n",
       "94401     2601\n",
       "94404     2552\n",
       "94087     2248\n",
       "         ...  \n",
       "2140         6\n",
       "91789        6\n",
       "94956        5\n",
       "95031        5\n",
       "10021        4\n",
       "98134        4\n",
       "90034        4\n",
       "946-2        4\n",
       "95409        3\n",
       "96161        3\n",
       "94088        3\n",
       "95815        2\n",
       "90069        2\n",
       "94511        2\n",
       "75202        2\n",
       "95160        2\n",
       "98107        2\n",
       "90018        2\n",
       "94214        2\n",
       "95404        2\n",
       "93930        2\n",
       "95015        2\n",
       "95156        2\n",
       "74133        1\n",
       "90405        1\n",
       "95497        1\n",
       "92130        1\n",
       "86004        1\n",
       "37405        1\n",
       "48237        1\n",
       "Name: Zip Code, dtype: int64"
      ]
     },
     "execution_count": 22,
     "metadata": {},
     "output_type": "execute_result"
    }
   ],
   "source": [
    "subscribers['Zip Code'].value_counts()"
   ]
  },
  {
   "cell_type": "code",
   "execution_count": 23,
   "metadata": {
    "collapsed": false
   },
   "outputs": [
    {
     "name": "stderr",
     "output_type": "stream",
     "text": [
      "/Users/brianschneider/anaconda/lib/python3.5/site-packages/ipykernel/__main__.py:1: SettingWithCopyWarning: \n",
      "A value is trying to be set on a copy of a slice from a DataFrame.\n",
      "Try using .loc[row_indexer,col_indexer] = value instead\n",
      "\n",
      "See the caveats in the documentation: http://pandas.pydata.org/pandas-docs/stable/indexing.html#indexing-view-versus-copy\n",
      "  if __name__ == '__main__':\n"
     ]
    }
   ],
   "source": [
    "subscribers['full_route'] = subscribers['Start Station'] + \" & \" + subscribers['End Station']\n",
    "#full_route info"
   ]
  },
  {
   "cell_type": "code",
   "execution_count": 25,
   "metadata": {
    "collapsed": false
   },
   "outputs": [
    {
     "data": {
      "text/html": [
       "<div>\n",
       "<table border=\"1\" class=\"dataframe\">\n",
       "  <thead>\n",
       "    <tr style=\"text-align: right;\">\n",
       "      <th></th>\n",
       "      <th>Trip ID</th>\n",
       "      <th>Duration</th>\n",
       "      <th>Start Date</th>\n",
       "      <th>Start Station</th>\n",
       "      <th>Start Terminal</th>\n",
       "      <th>End Date</th>\n",
       "      <th>End Station</th>\n",
       "      <th>End Terminal</th>\n",
       "      <th>Bike #</th>\n",
       "      <th>Subscriber Type</th>\n",
       "      <th>Zip Code</th>\n",
       "      <th>full_route</th>\n",
       "    </tr>\n",
       "  </thead>\n",
       "  <tbody>\n",
       "    <tr>\n",
       "      <th>0</th>\n",
       "      <td>913460</td>\n",
       "      <td>765</td>\n",
       "      <td>8/31/2015 23:26</td>\n",
       "      <td>Harry Bridges Plaza (Ferry Building)</td>\n",
       "      <td>50</td>\n",
       "      <td>8/31/2015 23:39</td>\n",
       "      <td>San Francisco Caltrain (Townsend at 4th)</td>\n",
       "      <td>70</td>\n",
       "      <td>288</td>\n",
       "      <td>Subscriber</td>\n",
       "      <td>2139</td>\n",
       "      <td>Harry Bridges Plaza (Ferry Building) &amp; San Fra...</td>\n",
       "    </tr>\n",
       "    <tr>\n",
       "      <th>1</th>\n",
       "      <td>913459</td>\n",
       "      <td>1036</td>\n",
       "      <td>8/31/2015 23:11</td>\n",
       "      <td>San Antonio Shopping Center</td>\n",
       "      <td>31</td>\n",
       "      <td>8/31/2015 23:28</td>\n",
       "      <td>Mountain View City Hall</td>\n",
       "      <td>27</td>\n",
       "      <td>35</td>\n",
       "      <td>Subscriber</td>\n",
       "      <td>95032</td>\n",
       "      <td>San Antonio Shopping Center &amp; Mountain View Ci...</td>\n",
       "    </tr>\n",
       "    <tr>\n",
       "      <th>2</th>\n",
       "      <td>913455</td>\n",
       "      <td>307</td>\n",
       "      <td>8/31/2015 23:13</td>\n",
       "      <td>Post at Kearny</td>\n",
       "      <td>47</td>\n",
       "      <td>8/31/2015 23:18</td>\n",
       "      <td>2nd at South Park</td>\n",
       "      <td>64</td>\n",
       "      <td>468</td>\n",
       "      <td>Subscriber</td>\n",
       "      <td>94107</td>\n",
       "      <td>Post at Kearny &amp; 2nd at South Park</td>\n",
       "    </tr>\n",
       "    <tr>\n",
       "      <th>3</th>\n",
       "      <td>913454</td>\n",
       "      <td>409</td>\n",
       "      <td>8/31/2015 23:10</td>\n",
       "      <td>San Jose City Hall</td>\n",
       "      <td>10</td>\n",
       "      <td>8/31/2015 23:17</td>\n",
       "      <td>San Salvador at 1st</td>\n",
       "      <td>8</td>\n",
       "      <td>68</td>\n",
       "      <td>Subscriber</td>\n",
       "      <td>95113</td>\n",
       "      <td>San Jose City Hall &amp; San Salvador at 1st</td>\n",
       "    </tr>\n",
       "    <tr>\n",
       "      <th>5</th>\n",
       "      <td>913452</td>\n",
       "      <td>293</td>\n",
       "      <td>8/31/2015 23:07</td>\n",
       "      <td>Yerba Buena Center of the Arts (3rd @ Howard)</td>\n",
       "      <td>68</td>\n",
       "      <td>8/31/2015 23:12</td>\n",
       "      <td>San Francisco Caltrain (Townsend at 4th)</td>\n",
       "      <td>70</td>\n",
       "      <td>538</td>\n",
       "      <td>Subscriber</td>\n",
       "      <td>94118</td>\n",
       "      <td>Yerba Buena Center of the Arts (3rd @ Howard) ...</td>\n",
       "    </tr>\n",
       "  </tbody>\n",
       "</table>\n",
       "</div>"
      ],
      "text/plain": [
       "   Trip ID  Duration       Start Date  \\\n",
       "0   913460       765  8/31/2015 23:26   \n",
       "1   913459      1036  8/31/2015 23:11   \n",
       "2   913455       307  8/31/2015 23:13   \n",
       "3   913454       409  8/31/2015 23:10   \n",
       "5   913452       293  8/31/2015 23:07   \n",
       "\n",
       "                                   Start Station  Start Terminal  \\\n",
       "0           Harry Bridges Plaza (Ferry Building)              50   \n",
       "1                    San Antonio Shopping Center              31   \n",
       "2                                 Post at Kearny              47   \n",
       "3                             San Jose City Hall              10   \n",
       "5  Yerba Buena Center of the Arts (3rd @ Howard)              68   \n",
       "\n",
       "          End Date                               End Station  End Terminal  \\\n",
       "0  8/31/2015 23:39  San Francisco Caltrain (Townsend at 4th)            70   \n",
       "1  8/31/2015 23:28                   Mountain View City Hall            27   \n",
       "2  8/31/2015 23:18                         2nd at South Park            64   \n",
       "3  8/31/2015 23:17                       San Salvador at 1st             8   \n",
       "5  8/31/2015 23:12  San Francisco Caltrain (Townsend at 4th)            70   \n",
       "\n",
       "   Bike # Subscriber Type Zip Code  \\\n",
       "0     288      Subscriber     2139   \n",
       "1      35      Subscriber    95032   \n",
       "2     468      Subscriber    94107   \n",
       "3      68      Subscriber    95113   \n",
       "5     538      Subscriber    94118   \n",
       "\n",
       "                                          full_route  \n",
       "0  Harry Bridges Plaza (Ferry Building) & San Fra...  \n",
       "1  San Antonio Shopping Center & Mountain View Ci...  \n",
       "2                 Post at Kearny & 2nd at South Park  \n",
       "3           San Jose City Hall & San Salvador at 1st  \n",
       "5  Yerba Buena Center of the Arts (3rd @ Howard) ...  "
      ]
     },
     "execution_count": 25,
     "metadata": {},
     "output_type": "execute_result"
    }
   ],
   "source": [
    "subscribers.head()"
   ]
  },
  {
   "cell_type": "code",
   "execution_count": 26,
   "metadata": {
    "collapsed": false
   },
   "outputs": [
    {
     "data": {
      "text/plain": [
       "<matplotlib.axes._subplots.AxesSubplot at 0x11ddab5f8>"
      ]
     },
     "execution_count": 26,
     "metadata": {},
     "output_type": "execute_result"
    },
    {
     "data": {
      "image/png": "[encoded data removed]",
      "text/plain": [
       "<matplotlib.figure.Figure at 0x11e7cbb00>"
      ]
     },
     "metadata": {},
     "output_type": "display_data"
    }
   ],
   "source": [
    "subscribers['full_route'].value_counts()[subscribers['full_route'].value_counts() > 1500].plot(kind=\"barh\", figsize=(12,8))"
   ]
  },
  {
   "cell_type": "code",
   "execution_count": 37,
   "metadata": {
    "collapsed": false
   },
   "outputs": [],
   "source": [
    "ranges = [0,300,600,900,1200,1500,1800,2100,2400]\n",
    "labels = ['00-05 mins','05-10 mins','10-15 mins','15-20 mins','20-25 mins','25-30 mins','30-35 mins','35-40 mins']"
   ]
  },
  {
   "cell_type": "code",
   "execution_count": 38,
   "metadata": {
    "collapsed": false
   },
   "outputs": [
    {
     "name": "stderr",
     "output_type": "stream",
     "text": [
      "/Users/brianschneider/anaconda/lib/python3.5/site-packages/ipykernel/__main__.py:1: SettingWithCopyWarning: \n",
      "A value is trying to be set on a copy of a slice from a DataFrame.\n",
      "Try using .loc[row_indexer,col_indexer] = value instead\n",
      "\n",
      "See the caveats in the documentation: http://pandas.pydata.org/pandas-docs/stable/indexing.html#indexing-view-versus-copy\n",
      "  if __name__ == '__main__':\n"
     ]
    }
   ],
   "source": [
    "subscribers['Duration2'] = pd.cut(subscribers.Duration, ranges, labels=labels).astype('category')"
   ]
  },
  {
   "cell_type": "code",
   "execution_count": 40,
   "metadata": {
    "collapsed": false
   },
   "outputs": [
    {
     "data": {
      "text/plain": [
       "<matplotlib.axes._subplots.AxesSubplot at 0x11bc824a8>"
      ]
     },
     "execution_count": 40,
     "metadata": {},
     "output_type": "execute_result"
    },
    {
     "data": {
      "image/png": "[encoded data removed]",
      "text/plain": [
       "<matplotlib.figure.Figure at 0x11bcd1908>"
      ]
     },
     "metadata": {},
     "output_type": "display_data"
    }
   ],
   "source": [
    "subscribers.Duration2.value_counts().plot(kind = 'barh')\n",
    "#number of subscriber rides that fall in a duration bucket"
   ]
  },
  {
   "cell_type": "code",
   "execution_count": 84,
   "metadata": {
    "collapsed": false
   },
   "outputs": [
    {
     "data": {
      "text/plain": [
       "full_route\n",
       "2nd at Folsom & 2nd at Folsom                                                                    1336.166667\n",
       "2nd at Folsom & 2nd at South Park                                                                 222.006969\n",
       "2nd at Folsom & 2nd at Townsend                                                                   311.181159\n",
       "2nd at Folsom & 5th at Howard                                                                     431.542857\n",
       "2nd at Folsom & Beale at Market                                                                   355.107438\n",
       "2nd at Folsom & Broadway St at Battery St                                                         644.238806\n",
       "2nd at Folsom & Civic Center BART (7th at Market)                                                 673.750000\n",
       "2nd at Folsom & Clay at Battery                                                                   438.592275\n",
       "2nd at Folsom & Commercial at Montgomery                                                          479.062500\n",
       "2nd at Folsom & Davis at Jackson                                                                  797.178571\n",
       "2nd at Folsom & Embarcadero at Bryant                                                             366.293478\n",
       "2nd at Folsom & Embarcadero at Folsom                                                             363.250000\n",
       "2nd at Folsom & Embarcadero at Sansome                                                           1377.471698\n",
       "2nd at Folsom & Embarcadero at Vallejo                                                            791.866667\n",
       "2nd at Folsom & Golden Gate at Polk                                                               976.111111\n",
       "2nd at Folsom & Grant Avenue at Columbus Avenue                                                   694.355556\n",
       "2nd at Folsom & Harry Bridges Plaza (Ferry Building)                                              422.283721\n",
       "2nd at Folsom & Howard at 2nd                                                                     157.365854\n",
       "2nd at Folsom & Market at 10th                                                                    864.643836\n",
       "2nd at Folsom & Market at 4th                                                                     415.313559\n",
       "2nd at Folsom & Market at Sansome                                                                 487.672929\n",
       "2nd at Folsom & Mechanics Plaza (Market at Battery)                                               370.852459\n",
       "2nd at Folsom & Post at Kearny                                                                    377.207921\n",
       "2nd at Folsom & Powell Street BART                                                                532.684211\n",
       "2nd at Folsom & Powell at Post (Union Square)                                                     556.364706\n",
       "2nd at Folsom & San Francisco Caltrain (Townsend at 4th)                                          413.866964\n",
       "2nd at Folsom & San Francisco Caltrain 2 (330 Townsend)                                           570.964758\n",
       "2nd at Folsom & San Francisco City Hall                                                           789.428571\n",
       "2nd at Folsom & South Van Ness at Market                                                          920.590909\n",
       "2nd at Folsom & Spear at Folsom                                                                   268.726688\n",
       "                                                                                                    ...     \n",
       "Yerba Buena Center of the Arts (3rd @ Howard) & Broadway St at Battery St                         624.634146\n",
       "Yerba Buena Center of the Arts (3rd @ Howard) & Civic Center BART (7th at Market)                 684.693182\n",
       "Yerba Buena Center of the Arts (3rd @ Howard) & Clay at Battery                                   855.707317\n",
       "Yerba Buena Center of the Arts (3rd @ Howard) & Commercial at Montgomery                          516.180412\n",
       "Yerba Buena Center of the Arts (3rd @ Howard) & Davis at Jackson                                  919.857143\n",
       "Yerba Buena Center of the Arts (3rd @ Howard) & Embarcadero at Bryant                             564.984615\n",
       "Yerba Buena Center of the Arts (3rd @ Howard) & Embarcadero at Folsom                             535.516129\n",
       "Yerba Buena Center of the Arts (3rd @ Howard) & Embarcadero at Sansome                           1005.302326\n",
       "Yerba Buena Center of the Arts (3rd @ Howard) & Embarcadero at Vallejo                            754.333333\n",
       "Yerba Buena Center of the Arts (3rd @ Howard) & Golden Gate at Polk                               745.259259\n",
       "Yerba Buena Center of the Arts (3rd @ Howard) & Grant Avenue at Columbus Avenue                   536.136364\n",
       "Yerba Buena Center of the Arts (3rd @ Howard) & Harry Bridges Plaza (Ferry Building)              486.338870\n",
       "Yerba Buena Center of the Arts (3rd @ Howard) & Howard at 2nd                                    1878.428571\n",
       "Yerba Buena Center of the Arts (3rd @ Howard) & Market at 10th                                    584.786207\n",
       "Yerba Buena Center of the Arts (3rd @ Howard) & Market at 4th                                     244.229885\n",
       "Yerba Buena Center of the Arts (3rd @ Howard) & Market at Sansome                                 821.293750\n",
       "Yerba Buena Center of the Arts (3rd @ Howard) & Mechanics Plaza (Market at Battery)               367.974359\n",
       "Yerba Buena Center of the Arts (3rd @ Howard) & Post at Kearny                                    268.666667\n",
       "Yerba Buena Center of the Arts (3rd @ Howard) & Powell Street BART                                378.526786\n",
       "Yerba Buena Center of the Arts (3rd @ Howard) & Powell at Post (Union Square)                     444.093750\n",
       "Yerba Buena Center of the Arts (3rd @ Howard) & San Francisco Caltrain (Townsend at 4th)          490.250784\n",
       "Yerba Buena Center of the Arts (3rd @ Howard) & San Francisco Caltrain 2 (330 Townsend)           485.041367\n",
       "Yerba Buena Center of the Arts (3rd @ Howard) & San Francisco City Hall                           732.043478\n",
       "Yerba Buena Center of the Arts (3rd @ Howard) & South Van Ness at Market                          738.531915\n",
       "Yerba Buena Center of the Arts (3rd @ Howard) & Spear at Folsom                                   503.610169\n",
       "Yerba Buena Center of the Arts (3rd @ Howard) & Steuart at Market                                 654.512048\n",
       "Yerba Buena Center of the Arts (3rd @ Howard) & Temporary Transbay Terminal (Howard at Beale)     403.293578\n",
       "Yerba Buena Center of the Arts (3rd @ Howard) & Townsend at 7th                                   663.609053\n",
       "Yerba Buena Center of the Arts (3rd @ Howard) & Washington at Kearny                              361.500000\n",
       "Yerba Buena Center of the Arts (3rd @ Howard) & Yerba Buena Center of the Arts (3rd @ Howard)     854.210526\n",
       "Name: Duration, dtype: float64"
      ]
     },
     "execution_count": 84,
     "metadata": {},
     "output_type": "execute_result"
    }
   ],
   "source": [
    "subscribers.groupby(['full_route'])['Duration'].mean()\n",
    "#average duration by full route"
   ]
  },
  {
   "cell_type": "code",
   "execution_count": 113,
   "metadata": {
    "collapsed": false
   },
   "outputs": [
    {
     "data": {
      "text/plain": [
       "count     310217.000000\n",
       "mean         597.299587\n",
       "std         3976.589433\n",
       "min           60.000000\n",
       "25%          325.000000\n",
       "50%          479.000000\n",
       "75%          669.000000\n",
       "max      1852590.000000\n",
       "Name: Duration, dtype: float64"
      ]
     },
     "execution_count": 113,
     "metadata": {},
     "output_type": "execute_result"
    }
   ],
   "source": [
    "subscribers.Duration.describe()"
   ]
  },
  {
   "cell_type": "code",
   "execution_count": 114,
   "metadata": {
    "collapsed": false
   },
   "outputs": [
    {
     "data": {
      "text/plain": [
       "<matplotlib.axes._subplots.AxesSubplot at 0x12d7b5ba8>"
      ]
     },
     "execution_count": 114,
     "metadata": {},
     "output_type": "execute_result"
    },
    {
     "data": {
      "image/png": "[encoded data removed]",
      "text/plain": [
       "<matplotlib.figure.Figure at 0x12e2238d0>"
      ]
     },
     "metadata": {},
     "output_type": "display_data"
    }
   ],
   "source": [
    "subscribers.groupby(['full_route'])['Duration'].mean().plot()"
   ]
  },
  {
   "cell_type": "code",
   "execution_count": 93,
   "metadata": {
    "collapsed": false
   },
   "outputs": [
    {
     "data": {
      "text/plain": [
       "full_route                     Duration2 \n",
       "2nd at Folsom & 2nd at Folsom  10-15 mins    12\n",
       "                               00-05 mins    11\n",
       "                               15-20 mins     6\n",
       "                               05-10 mins     5\n",
       "                               20-25 mins     2\n",
       "dtype: int64"
      ]
     },
     "execution_count": 93,
     "metadata": {},
     "output_type": "execute_result"
    }
   ],
   "source": [
    "subscribers.groupby(['full_route'])['Duration2'].value_counts().head()\n",
    "#allows you to see frequency of duration for full routes"
   ]
  },
  {
   "cell_type": "code",
   "execution_count": 98,
   "metadata": {
    "collapsed": false
   },
   "outputs": [
    {
     "data": {
      "text/plain": [
       "full_route                          \n",
       "2nd at Folsom & 2nd at Folsom  count      42.000000\n",
       "                               mean     1336.166667\n",
       "                               std      2885.074272\n",
       "                               min        61.000000\n",
       "                               25%       264.000000\n",
       "dtype: float64"
      ]
     },
     "execution_count": 98,
     "metadata": {},
     "output_type": "execute_result"
    }
   ],
   "source": [
    "subscribers.groupby(['full_route'])['Duration'].describe().head()\n",
    "#allows you to see duration metrics for full routes"
   ]
  },
  {
   "cell_type": "code",
   "execution_count": 115,
   "metadata": {
    "collapsed": true
   },
   "outputs": [],
   "source": [
    "#i want to look at trends by day, over time"
   ]
  },
  {
   "cell_type": "code",
   "execution_count": null,
   "metadata": {
    "collapsed": true
   },
   "outputs": [],
   "source": []
  }
 ],
 "metadata": {
  "kernelspec": {
   "display_name": "Python 3",
   "language": "python",
   "name": "python3"
  },
  "language_info": {
   "codemirror_mode": {
    "name": "ipython",
    "version": 3
   },
   "file_extension": ".py",
   "mimetype": "text/x-python",
   "name": "python",
   "nbconvert_exporter": "python",
   "pygments_lexer": "ipython3",
   "version": "3.5.1"
  }
 },
 "nbformat": 4,
 "nbformat_minor": 0
}
